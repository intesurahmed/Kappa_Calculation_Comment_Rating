{
 "cells": [
  {
   "cell_type": "code",
   "execution_count": null,
   "id": "b486a61a",
   "metadata": {},
   "outputs": [],
   "source": [
    "import pandas as pd\n",
    "from sklearn.metrics import cohen_kappa_score"
   ]
  },
  {
   "cell_type": "code",
   "execution_count": null,
   "id": "d23e3fbd",
   "metadata": {
    "scrolled": false
   },
   "outputs": [],
   "source": [
    "#samin=annotator 1\n",
    "samin=pd.read_csv(\"/Users/intesurahmed/Downloads/News-article-comments-rating-Samin-C.csv\")\n",
    "samin.drop([\"task_id\",\"task_response_id\",\"news\",\"url\"], axis=1, inplace=True)\n",
    "samin"
   ]
  },
  {
   "cell_type": "code",
   "execution_count": null,
   "id": "19f6b53d",
   "metadata": {},
   "outputs": [],
   "source": [
    "for i in range(1,71): # took the range from 1-71 as total comment count was 70 in data i have used here\n",
    "    scn=str(i)+\". Informativeness Rating\"\n",
    "    for key, values in samin.iteritems():\n",
    "        if key==scn:\n",
    "            #labeling the values for binary class\n",
    "            for k in samin.index: \n",
    "                if values[k]== -1 or values[k] == 0 or values[k] == 1 or values[k] == 2 :\n",
    "                    values[k]='Uninformative'\n",
    "                elif values[k] ==3 or values[k] == 4 or values[k] == 5 or values [k]== 6 or  values[k] == 7 or values[k] == 8:\n",
    "                    values[k]= 'Informative'\n",
    "\n",
    "samin"
   ]
  },
  {
   "cell_type": "code",
   "execution_count": null,
   "id": "76610e25",
   "metadata": {},
   "outputs": [],
   "source": [
    "for i in range(1,71):\n",
    "    scncom=str(i)+\". Compliment/Contrast Rating\"\n",
    "    for key, values in samin.iteritems():\n",
    "        if key==scncom:\n",
    "            for k in samin.index: \n",
    "                if values[k] == 0 :\n",
    "                    values[k] ='Neutral'\n",
    "                elif values[k]==-3 or values[k] == -2 or values[k] == -1 :\n",
    "                    values[k]='Contrasting'\n",
    "                elif values[k] ==1 or values[k] == 2 or values[k] == 3:\n",
    "                    values[k]='Complimentary'\n",
    "\n",
    "samin"
   ]
  },
  {
   "cell_type": "code",
   "execution_count": null,
   "id": "ca7af7a1",
   "metadata": {},
   "outputs": [],
   "source": [
    "combined_data=pd.read_csv(\"/Users/intesurahmed/Downloads/News-article-comments-rating-DATASET-C.csv\")\n",
    "combined_data.drop([\"task_id\",\"task_response_id\",\"news\",\"url\"], axis=1, inplace=True)\n",
    "combined_data"
   ]
  },
  {
   "cell_type": "code",
   "execution_count": null,
   "id": "35a1ccf3",
   "metadata": {},
   "outputs": [],
   "source": [
    "#zahidur= annotator 2\n",
    "#combined_data contains rating of 2 annotators, here seperating the ratings of zahidur\n",
    "zahidur=combined_data[combined_data[\"worker_id\"]== \"VWTW9DFG4DHE\"]\n",
    "zahidur"
   ]
  },
  {
   "cell_type": "code",
   "execution_count": null,
   "id": "b558f2f0",
   "metadata": {},
   "outputs": [],
   "source": [
    "for i in range(1,71):\n",
    "    zcncom=str(i)+\". Compliment/Contrast Rating\"\n",
    "    for key, values in zahidur.iteritems():\n",
    "        if key==zcncom:\n",
    "            for k in zahidur.index: \n",
    "                if values[k]==-3 or values[k] == -2 or values[k] == -1 :\n",
    "                    values[k]=\"Contrasting\"\n",
    "                elif values[k] ==1 or values[k] == 2 or values[k] == 3:\n",
    "                    values[k]=\"Complimentary\"\n",
    "\n",
    "zahidur"
   ]
  },
  {
   "cell_type": "code",
   "execution_count": null,
   "id": "7e0281e4",
   "metadata": {},
   "outputs": [],
   "source": [
    "for i in range(1,71):\n",
    "    zcn=str(i)+\". Informativeness Rating\"\n",
    "    for key, values in zahidur.iteritems():\n",
    "        if key==zcn:\n",
    "            for k in zahidur.index: \n",
    "                if values[k]==-1 or values[k] == 0 or values[k] == 1 or values[k] == 2 :\n",
    "                    values[k]=\"Uninformative\"\n",
    "                elif values[k] ==3 or values[k] == 4 or values[k] == 5 or values [k]== 6 or  values[k] == 7 or values[k] == 8:\n",
    "                    values[k]=\"Informative\"\n",
    "\n",
    "zahidur"
   ]
  },
  {
   "cell_type": "code",
   "execution_count": null,
   "id": "8c5faf7a",
   "metadata": {},
   "outputs": [],
   "source": [
    "l1=[]\n",
    "for i in zahidur.index:\n",
    "    saminIndexes = samin.loc[samin['title'] == zahidur['title'][i]].index.tolist()\n",
    "#     print(saminIndexes)\n",
    "    for colname, values in samin.iteritems():\n",
    "        if \"comment_\" in colname:\n",
    "            sc = colname.split(\"_\")[1]\n",
    "            for colnameZ, valuesZ in zahidur.iteritems():\n",
    "                if \"comment_\" in colnameZ:\n",
    "                    zc = colnameZ.split(\"_\")[1]\n",
    "                    if zahidur[colnameZ][i] == samin[colname][saminIndexes[0]]:\n",
    "                            inside_column_samin =  \"comment_\"+sc \n",
    "                            inside_column_zahidur =  \"comment_\"+ zc \n",
    "                            if samin[inside_column_samin][saminIndexes[0]] == \"empty\" or zahidur[inside_column_zahidur][i] == \"empty\":\n",
    "                                continue\n",
    "                            elif samin[inside_column_samin][saminIndexes[0]]== zahidur[inside_column_zahidur][i]:\n",
    "                                inside_IRcolumn_samin=sc +\". Informativeness Rating\"\n",
    "                                inside_IRcolumn_zahidur=zc +\". Informativeness Rating\"\n",
    "                                l1.append([samin[inside_IRcolumn_samin][saminIndexes[0]],zahidur[inside_IRcolumn_zahidur][i],samin[inside_column_samin][saminIndexes[0]]])\n",
    "info_rate_sz=pd.DataFrame(l1,columns= [\"Samin_IR\",\"zahidur_IR\",'comment'])\n",
    "print(info_rate_sz)\n",
    "info_rate_sz.to_csv(\"info_rate_sz.csv\")"
   ]
  },
  {
   "cell_type": "code",
   "execution_count": null,
   "id": "a4206363",
   "metadata": {},
   "outputs": [],
   "source": [
    "l1=[]\n",
    "for i in zahidur.index:\n",
    "    saminIndexes = samin.loc[samin['title'] == zahidur['title'][i]].index.tolist()\n",
    "#     print(saminIndexes)\n",
    "    for colname, values in samin.iteritems():\n",
    "        if \"comment_\" in colname:\n",
    "            sc = colname.split(\"_\")[1]\n",
    "            for colnameZ, valuesZ in zahidur.iteritems():\n",
    "                if \"comment_\" in colnameZ:\n",
    "                    zc = colnameZ.split(\"_\")[1]\n",
    "                    if zahidur[colnameZ][i] == samin[colname][saminIndexes[0]]:\n",
    "                            inside_column_samin =  \"comment_\"+sc \n",
    "                            inside_column_zahidur =  \"comment_\"+ zc \n",
    "                            if samin[inside_column_samin][saminIndexes[0]] == \"empty\" or zahidur[inside_column_zahidur][i] == \"empty\":\n",
    "                                continue\n",
    "                            elif samin[inside_column_samin][saminIndexes[0]]== zahidur[inside_column_zahidur][i]:\n",
    "                                inside_CCcolumn_samin=sc +\". Compliment/Contrast Rating\"\n",
    "                                inside_CCcolumn_zahidur=zc +\". Compliment/Contrast Rating\"\n",
    "                                l1.append([samin[inside_CCcolumn_samin][saminIndexes[0]],zahidur[inside_CCcolumn_zahidur][i],samin[inside_column_samin][saminIndexes[0]]])\n",
    "cc_sz=pd.DataFrame(l1,columns= [\"Samin_cc\",\"zahidur_cc\",'comment'])\n",
    "print(cc_sz)\n",
    "cc_sz.to_csv(\"cc_sz.csv\")"
   ]
  },
  {
   "cell_type": "code",
   "execution_count": null,
   "id": "6d17bf3d",
   "metadata": {},
   "outputs": [],
   "source": [
    "from sklearn.metrics import cohen_kappa_score\n",
    "#kappa calculation for comment informative-uninformative rating\n",
    "# reading CSV file\n",
    "data = pd.read_csv(\"/Users/intesurahmed/Downloads/info_rate_sz.csv\")\n",
    " \n",
    "# converting column data to list\n",
    "Samin_list = data['Samin_IR'].tolist()\n",
    "zahidur_list = data['zahidur_IR'].tolist()\n",
    "cohen_kappa_score(Samin_list, zahidur_list)"
   ]
  },
  {
   "cell_type": "code",
   "execution_count": null,
   "id": "cdecddc6",
   "metadata": {},
   "outputs": [],
   "source": [
    "#kappa calculation for comment compliment-contrast rating\n",
    "data = pd.read_csv(\"/Users/intesurahmed/Downloads/cc_sz.csv\")\n",
    "\n",
    "# converting column data to list\n",
    "Samin_list = data['Samin_cc'].tolist()\n",
    "zahidur_list = data['zahidur_cc'].tolist()\n",
    "cohen_kappa_score(Samin_list, zahidur_list)"
   ]
  },
  {
   "cell_type": "code",
   "execution_count": null,
   "id": "9ce9926a",
   "metadata": {},
   "outputs": [],
   "source": []
  }
 ],
 "metadata": {
  "kernelspec": {
   "display_name": "Python 3 (ipykernel)",
   "language": "python",
   "name": "python3"
  },
  "language_info": {
   "codemirror_mode": {
    "name": "ipython",
    "version": 3
   },
   "file_extension": ".py",
   "mimetype": "text/x-python",
   "name": "python",
   "nbconvert_exporter": "python",
   "pygments_lexer": "ipython3",
   "version": "3.9.13"
  }
 },
 "nbformat": 4,
 "nbformat_minor": 5
}
